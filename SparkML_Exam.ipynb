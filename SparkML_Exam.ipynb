{
  "nbformat": 4,
  "nbformat_minor": 0,
  "metadata": {
    "colab": {
      "provenance": []
    },
    "kernelspec": {
      "name": "python3",
      "display_name": "Python 3"
    },
    "language_info": {
      "name": "python"
    }
  },
  "cells": [
    {
      "cell_type": "code",
      "execution_count": 3,
      "metadata": {
        "colab": {
          "base_uri": "https://localhost:8080/"
        },
        "id": "7uOIWYeNTugO",
        "outputId": "30a62d50-a798-49db-fd88-dd37c1e27c59"
      },
      "outputs": [
        {
          "output_type": "stream",
          "name": "stdout",
          "text": [
            "Collecting pyspark\n",
            "  Downloading pyspark-3.5.3.tar.gz (317.3 MB)\n",
            "\u001b[2K     \u001b[90m━━━━━━━━━━━━━━━━━━━━━━━━━━━━━━━━━━━━━━━━\u001b[0m \u001b[32m317.3/317.3 MB\u001b[0m \u001b[31m4.0 MB/s\u001b[0m eta \u001b[36m0:00:00\u001b[0m\n",
            "\u001b[?25h  Preparing metadata (setup.py) ... \u001b[?25l\u001b[?25hdone\n",
            "Requirement already satisfied: py4j==0.10.9.7 in /usr/local/lib/python3.10/dist-packages (from pyspark) (0.10.9.7)\n",
            "Building wheels for collected packages: pyspark\n",
            "  Building wheel for pyspark (setup.py) ... \u001b[?25l\u001b[?25hdone\n",
            "  Created wheel for pyspark: filename=pyspark-3.5.3-py2.py3-none-any.whl size=317840625 sha256=fa27a66233d66a4d611df5d7da7d2e33a38807026c9a681509ab0f48e6539d05\n",
            "  Stored in directory: /root/.cache/pip/wheels/1b/3a/92/28b93e2fbfdbb07509ca4d6f50c5e407f48dce4ddbda69a4ab\n",
            "Successfully built pyspark\n",
            "Installing collected packages: pyspark\n",
            "Successfully installed pyspark-3.5.3\n"
          ]
        }
      ],
      "source": [
        "pip install pyspark"
      ]
    },
    {
      "cell_type": "markdown",
      "source": [
        "### LOADING:"
      ],
      "metadata": {
        "id": "PT5kMRMCVIhg"
      }
    },
    {
      "cell_type": "code",
      "source": [
        "from pyspark.sql import SparkSession\n",
        "from pyspark.ml.regression import LinearRegression\n",
        "from pyspark.ml.feature import VectorAssembler\n",
        "from pyspark.ml.evaluation import RegressionEvaluator\n",
        "import logging"
      ],
      "metadata": {
        "id": "0EemvzS6T45c"
      },
      "execution_count": 4,
      "outputs": []
    },
    {
      "cell_type": "code",
      "source": [
        "spark = SparkSession.builder.appName(\"Boston\").getOrCreate()"
      ],
      "metadata": {
        "id": "qVhhnPU5UZsx"
      },
      "execution_count": 5,
      "outputs": []
    },
    {
      "cell_type": "code",
      "source": [
        "data = spark.read.option(\"header\", \"true\").option(\"inferSchema\", \"true\").csv(\"/content/boston.csv\")"
      ],
      "metadata": {
        "id": "JIE-8tF7Ud5f"
      },
      "execution_count": 6,
      "outputs": []
    },
    {
      "cell_type": "code",
      "source": [
        "data.show()"
      ],
      "metadata": {
        "colab": {
          "base_uri": "https://localhost:8080/"
        },
        "id": "npZNMCEpWNbM",
        "outputId": "405bf2d6-4b81-449b-ee7a-fd6530a8e9a5"
      },
      "execution_count": 13,
      "outputs": [
        {
          "output_type": "stream",
          "name": "stdout",
          "text": [
            "+-----------+----+-----------+-----------+-----------+-----------+-----------+---+---+-----------+-----------+-----------+-----------+\n",
            "|       CRIM|  ZN|      INDUS|        NOX|         RM|        AGE|        DIS|RAD|TAX|         PT|          B|      LSTAT|         MV|\n",
            "+-----------+----+-----------+-----------+-----------+-----------+-----------+---+---+-----------+-----------+-----------+-----------+\n",
            "|    0.00632|18.0|2.309999943|0.537999988|6.574999809|65.19999695|4.090000153|  1|296|15.30000019|396.8999939|4.980000019|       24.0|\n",
            "|0.027310001| 0.0|7.070000172|0.469000012|6.421000004|78.90000153|4.967100143|  2|242|17.79999924|396.8999939|9.140000343|21.60000038|\n",
            "|    0.02729| 0.0|7.070000172|0.469000012|7.184999943|61.09999847|4.967100143|  2|242|17.79999924|392.8299866| 4.03000021|34.70000076|\n",
            "|0.032370001| 0.0|2.180000067|0.458000004|6.998000145|45.79999924|6.062200069|  3|222|18.70000076|394.6300049|2.940000057|33.40000153|\n",
            "|0.069049999| 0.0|2.180000067|0.458000004|7.146999836|54.20000076|6.062200069|  3|222|18.70000076|396.8999939|5.329999924|36.20000076|\n",
            "|0.029850001| 0.0|2.180000067|0.458000004|6.429999828|58.70000076|6.062200069|  3|222|18.70000076|394.1199951|5.210000038|28.70000076|\n",
            "|0.088289998|12.5|7.869999886|0.523999989|6.012000084|66.59999847|5.560500145|  5|311|15.19999981|395.6000061|12.43000031|22.89999962|\n",
            "|0.144549996|12.5|7.869999886|0.523999989|6.171999931|96.09999847|5.950500011|  5|311|15.19999981|396.8999939|19.14999962|27.10000038|\n",
            "|0.211239994|12.5|7.869999886|0.523999989|5.631000042|      100.0|6.082099915|  5|311|15.19999981|386.6300049|29.93000031|       16.5|\n",
            "|0.170039997|12.5|7.869999886|0.523999989|6.004000187|85.90000153|6.592100143|  5|311|15.19999981|386.7099915|17.10000038|18.89999962|\n",
            "|0.224889994|12.5|7.869999886|0.523999989|6.376999855|94.30000305|6.346700191|  5|311|15.19999981| 392.519989|20.45000076|       15.0|\n",
            "|0.117470004|12.5|7.869999886|0.523999989|6.008999825|82.90000153|6.226699829|  5|311|15.19999981|396.8999939|13.27000046|18.89999962|\n",
            "|0.093780003|12.5|7.869999886|0.523999989|5.888999939|       39.0|5.450900078|  5|311|15.19999981|      390.5|15.71000004|21.70000076|\n",
            "|0.629760027| 0.0|8.140000343|0.537999988|5.948999882|61.79999924|4.707499981|  4|307|       21.0|396.8999939|8.260000229|20.39999962|\n",
            "|0.637960017| 0.0|8.140000343|0.537999988|6.096000195|       84.5|4.461900234|  4|307|       21.0| 380.019989|10.26000023|18.20000076|\n",
            "|0.627390027| 0.0|8.140000343|0.537999988|5.834000111|       56.5|4.498600006|  4|307|       21.0|395.6199951|8.470000267|19.89999962|\n",
            "|1.053930044| 0.0|8.140000343|0.537999988|5.934999943|29.29999924|4.498600006|  4|307|       21.0|386.8500061|6.579999924|23.10000038|\n",
            "|0.784200013| 0.0|8.140000343|0.537999988|5.989999771|81.69999695|4.257900238|  4|307|       21.0|     386.75|14.67000008|       17.5|\n",
            "|0.802709997| 0.0|8.140000343|0.537999988|5.455999851|36.59999847|3.796499968|  4|307|       21.0|288.9899902|11.68999958|20.20000076|\n",
            "|0.725799978| 0.0|8.140000343|0.537999988|5.727000237|       69.5|3.796499968|  4|307|       21.0|390.9500122|11.27999973|18.20000076|\n",
            "+-----------+----+-----------+-----------+-----------+-----------+-----------+---+---+-----------+-----------+-----------+-----------+\n",
            "only showing top 20 rows\n",
            "\n"
          ]
        }
      ]
    },
    {
      "cell_type": "code",
      "source": [
        "data.printSchema()"
      ],
      "metadata": {
        "colab": {
          "base_uri": "https://localhost:8080/"
        },
        "id": "J7H-bT6SUlzO",
        "outputId": "504ef8fb-67d6-4433-aa1b-1f9660b86028"
      },
      "execution_count": 7,
      "outputs": [
        {
          "output_type": "stream",
          "name": "stdout",
          "text": [
            "root\n",
            " |-- CRIM: double (nullable = true)\n",
            " |-- ZN: double (nullable = true)\n",
            " |-- INDUS: double (nullable = true)\n",
            " |-- CHAS: integer (nullable = true)\n",
            " |-- NOX: double (nullable = true)\n",
            " |-- RM: double (nullable = true)\n",
            " |-- AGE: double (nullable = true)\n",
            " |-- DIS: double (nullable = true)\n",
            " |-- RAD: integer (nullable = true)\n",
            " |-- TAX: integer (nullable = true)\n",
            " |-- PT: double (nullable = true)\n",
            " |-- B: double (nullable = true)\n",
            " |-- LSTAT: double (nullable = true)\n",
            " |-- MV: double (nullable = true)\n",
            "\n"
          ]
        }
      ]
    },
    {
      "cell_type": "markdown",
      "source": [
        "### EDA:"
      ],
      "metadata": {
        "id": "bj6FkRvrVPlK"
      }
    },
    {
      "cell_type": "code",
      "source": [
        "data.count()"
      ],
      "metadata": {
        "colab": {
          "base_uri": "https://localhost:8080/"
        },
        "id": "POy1MnS6Uuuf",
        "outputId": "73435ef7-7bab-49c5-9cca-e30c74ba075d"
      },
      "execution_count": 8,
      "outputs": [
        {
          "output_type": "execute_result",
          "data": {
            "text/plain": [
              "506"
            ]
          },
          "metadata": {},
          "execution_count": 8
        }
      ]
    },
    {
      "cell_type": "code",
      "source": [
        "from pyspark.sql.functions import isnull, col\n",
        "\n",
        "for column in data.columns:\n",
        "  print(f\"Nulls in column {column}: {data.filter(isnull(col(column))).count()}\")"
      ],
      "metadata": {
        "colab": {
          "base_uri": "https://localhost:8080/"
        },
        "id": "UbUolgdGU1ND",
        "outputId": "dca0f4e3-4d37-4f35-a26b-c826901f048f"
      },
      "execution_count": 10,
      "outputs": [
        {
          "output_type": "stream",
          "name": "stdout",
          "text": [
            "Nulls in column CRIM: 0\n",
            "Nulls in column ZN: 0\n",
            "Nulls in column INDUS: 0\n",
            "Nulls in column CHAS: 0\n",
            "Nulls in column NOX: 0\n",
            "Nulls in column RM: 0\n",
            "Nulls in column AGE: 0\n",
            "Nulls in column DIS: 0\n",
            "Nulls in column RAD: 0\n",
            "Nulls in column TAX: 0\n",
            "Nulls in column PT: 0\n",
            "Nulls in column B: 0\n",
            "Nulls in column LSTAT: 0\n",
            "Nulls in column MV: 0\n"
          ]
        }
      ]
    },
    {
      "cell_type": "markdown",
      "source": [
        "### Q3. CORRELATION BETWEEN DEPENDENT AND INDEPENDENT VARIABLE:"
      ],
      "metadata": {
        "id": "ih6l8GMUVzsr"
      }
    },
    {
      "cell_type": "code",
      "source": [
        "# List of independent variables\n",
        "independent_vars = ['CRIM', 'ZN', 'INDUS', 'CHAS', 'NOX', 'RM', 'AGE','DIS','RAD','TAX','PT','B','LSTAT']\n",
        "\n",
        "# Dependent variable\n",
        "dependent_var = 'MV'\n",
        "\n",
        "# Loop through each independent variable and calculate correlation\n",
        "for col in independent_vars:\n",
        "    correlation = data.stat.corr(col, dependent_var)\n",
        "    print(f\"Correlation between {col} and {dependent_var}: {correlation}\")"
      ],
      "metadata": {
        "colab": {
          "base_uri": "https://localhost:8080/"
        },
        "id": "CStBeMcFVwHf",
        "outputId": "e645aa4c-a81d-42fd-e2f5-c77609fbb2bb"
      },
      "execution_count": 11,
      "outputs": [
        {
          "output_type": "stream",
          "name": "stdout",
          "text": [
            "Correlation between CRIM and MV: -0.3883046116575089\n",
            "Correlation between ZN and MV: 0.360445344637529\n",
            "Correlation between INDUS and MV: -0.48372517128143366\n",
            "Correlation between CHAS and MV: 0.1752601777529185\n",
            "Correlation between NOX and MV: -0.4273207763683772\n",
            "Correlation between RM and MV: 0.6953599371272672\n",
            "Correlation between AGE and MV: -0.3769545671428867\n",
            "Correlation between DIS and MV: 0.24992873873512172\n",
            "Correlation between RAD and MV: -0.38162623156691683\n",
            "Correlation between TAX and MV: -0.46853593528654536\n",
            "Correlation between PT and MV: -0.5077867038116086\n",
            "Correlation between B and MV: 0.3334608226834165\n",
            "Correlation between LSTAT and MV: -0.7376627294671615\n"
          ]
        }
      ]
    },
    {
      "cell_type": "code",
      "source": [
        "data = data.drop(\"CHAS\")"
      ],
      "metadata": {
        "id": "yKSPHXnOWGtf"
      },
      "execution_count": 12,
      "outputs": []
    },
    {
      "cell_type": "code",
      "source": [
        "data.show()"
      ],
      "metadata": {
        "colab": {
          "base_uri": "https://localhost:8080/"
        },
        "id": "axYKK1USWRwW",
        "outputId": "35da84a9-df38-4ca8-daa0-121ed589630b"
      },
      "execution_count": 14,
      "outputs": [
        {
          "output_type": "stream",
          "name": "stdout",
          "text": [
            "+-----------+----+-----------+-----------+-----------+-----------+-----------+---+---+-----------+-----------+-----------+-----------+\n",
            "|       CRIM|  ZN|      INDUS|        NOX|         RM|        AGE|        DIS|RAD|TAX|         PT|          B|      LSTAT|         MV|\n",
            "+-----------+----+-----------+-----------+-----------+-----------+-----------+---+---+-----------+-----------+-----------+-----------+\n",
            "|    0.00632|18.0|2.309999943|0.537999988|6.574999809|65.19999695|4.090000153|  1|296|15.30000019|396.8999939|4.980000019|       24.0|\n",
            "|0.027310001| 0.0|7.070000172|0.469000012|6.421000004|78.90000153|4.967100143|  2|242|17.79999924|396.8999939|9.140000343|21.60000038|\n",
            "|    0.02729| 0.0|7.070000172|0.469000012|7.184999943|61.09999847|4.967100143|  2|242|17.79999924|392.8299866| 4.03000021|34.70000076|\n",
            "|0.032370001| 0.0|2.180000067|0.458000004|6.998000145|45.79999924|6.062200069|  3|222|18.70000076|394.6300049|2.940000057|33.40000153|\n",
            "|0.069049999| 0.0|2.180000067|0.458000004|7.146999836|54.20000076|6.062200069|  3|222|18.70000076|396.8999939|5.329999924|36.20000076|\n",
            "|0.029850001| 0.0|2.180000067|0.458000004|6.429999828|58.70000076|6.062200069|  3|222|18.70000076|394.1199951|5.210000038|28.70000076|\n",
            "|0.088289998|12.5|7.869999886|0.523999989|6.012000084|66.59999847|5.560500145|  5|311|15.19999981|395.6000061|12.43000031|22.89999962|\n",
            "|0.144549996|12.5|7.869999886|0.523999989|6.171999931|96.09999847|5.950500011|  5|311|15.19999981|396.8999939|19.14999962|27.10000038|\n",
            "|0.211239994|12.5|7.869999886|0.523999989|5.631000042|      100.0|6.082099915|  5|311|15.19999981|386.6300049|29.93000031|       16.5|\n",
            "|0.170039997|12.5|7.869999886|0.523999989|6.004000187|85.90000153|6.592100143|  5|311|15.19999981|386.7099915|17.10000038|18.89999962|\n",
            "|0.224889994|12.5|7.869999886|0.523999989|6.376999855|94.30000305|6.346700191|  5|311|15.19999981| 392.519989|20.45000076|       15.0|\n",
            "|0.117470004|12.5|7.869999886|0.523999989|6.008999825|82.90000153|6.226699829|  5|311|15.19999981|396.8999939|13.27000046|18.89999962|\n",
            "|0.093780003|12.5|7.869999886|0.523999989|5.888999939|       39.0|5.450900078|  5|311|15.19999981|      390.5|15.71000004|21.70000076|\n",
            "|0.629760027| 0.0|8.140000343|0.537999988|5.948999882|61.79999924|4.707499981|  4|307|       21.0|396.8999939|8.260000229|20.39999962|\n",
            "|0.637960017| 0.0|8.140000343|0.537999988|6.096000195|       84.5|4.461900234|  4|307|       21.0| 380.019989|10.26000023|18.20000076|\n",
            "|0.627390027| 0.0|8.140000343|0.537999988|5.834000111|       56.5|4.498600006|  4|307|       21.0|395.6199951|8.470000267|19.89999962|\n",
            "|1.053930044| 0.0|8.140000343|0.537999988|5.934999943|29.29999924|4.498600006|  4|307|       21.0|386.8500061|6.579999924|23.10000038|\n",
            "|0.784200013| 0.0|8.140000343|0.537999988|5.989999771|81.69999695|4.257900238|  4|307|       21.0|     386.75|14.67000008|       17.5|\n",
            "|0.802709997| 0.0|8.140000343|0.537999988|5.455999851|36.59999847|3.796499968|  4|307|       21.0|288.9899902|11.68999958|20.20000076|\n",
            "|0.725799978| 0.0|8.140000343|0.537999988|5.727000237|       69.5|3.796499968|  4|307|       21.0|390.9500122|11.27999973|18.20000076|\n",
            "+-----------+----+-----------+-----------+-----------+-----------+-----------+---+---+-----------+-----------+-----------+-----------+\n",
            "only showing top 20 rows\n",
            "\n"
          ]
        }
      ]
    },
    {
      "cell_type": "code",
      "source": [
        "data1 = data.select(\n",
        "    data[\"MV\"].alias(\"label\"),\n",
        "    data[\"CRIM\"],\n",
        "    data[\"ZN\"],\n",
        "    data[\"INDUS\"],\n",
        "    data[\"NOX\"],\n",
        "    data[\"RM\"],\n",
        "    data[\"AGE\"],\n",
        "    data[\"DIS\"],\n",
        "    data[\"RAD\"],\n",
        "    data[\"TAX\"],\n",
        "    data[\"PT\"],\n",
        "    data[\"B\"],\n",
        "    data[\"LSTAT\"]\n",
        ")"
      ],
      "metadata": {
        "id": "SAGB_AiAU3m1"
      },
      "execution_count": 15,
      "outputs": []
    },
    {
      "cell_type": "markdown",
      "source": [
        "### MODEL ASSEMBLING:"
      ],
      "metadata": {
        "id": "tZYpOzIpXNr1"
      }
    },
    {
      "cell_type": "code",
      "source": [
        "assembler = VectorAssembler(inputCols=[\"CRIM\", \"ZN\", \"INDUS\", \"NOX\", \"RM\", \"AGE\", \"DIS\", \"RAD\", \"TAX\", \"PT\", \"B\",\"LSTAT\"], outputCol=\"features\")\n",
        "data2 = assembler.transform(data1).select(\"label\", \"features\")"
      ],
      "metadata": {
        "id": "GmiesOfJXHcS"
      },
      "execution_count": 17,
      "outputs": []
    },
    {
      "cell_type": "markdown",
      "source": [
        "### Q4. MODEL BUILDING:"
      ],
      "metadata": {
        "id": "09gkhMpfYDY6"
      }
    },
    {
      "cell_type": "code",
      "source": [
        "lr = LinearRegression()\n",
        "lrModel = lr.fit(data2)"
      ],
      "metadata": {
        "id": "qDvlCKufYCpu"
      },
      "execution_count": 18,
      "outputs": []
    },
    {
      "cell_type": "code",
      "source": [
        "# Printing model coefficients and intercept\n",
        "print(f\"Coefficients: {lrModel.coefficients} Intercept: {lrModel.intercept}\")"
      ],
      "metadata": {
        "colab": {
          "base_uri": "https://localhost:8080/"
        },
        "id": "wAconGYpX4YR",
        "outputId": "0ca5cdbc-8808-4418-e402-8f7eced678e5"
      },
      "execution_count": 19,
      "outputs": [
        {
          "output_type": "stream",
          "name": "stdout",
          "text": [
            "Coefficients: [-0.11313907399132583,0.04705245542131341,0.040311506977772936,-17.36700309454723,3.8504914637418364,0.0027837556944060094,-1.4853738430173982,0.3283110497824966,-0.013755828222706521,-0.9909580560187735,0.009741451123718657,-0.5341576394742901] Intercept: 36.89196286592349\n"
          ]
        }
      ]
    },
    {
      "cell_type": "code",
      "source": [
        "# Model summary\n",
        "trainingSummary = lrModel.summary\n",
        "print(f\"numIterations: {trainingSummary.totalIterations}\")\n",
        "print(f\"objectiveHistory: {trainingSummary.objectiveHistory}\")"
      ],
      "metadata": {
        "colab": {
          "base_uri": "https://localhost:8080/"
        },
        "id": "isIdSyHAYRCe",
        "outputId": "9716c615-ef6b-40e6-bc2d-3962e2b29e95"
      },
      "execution_count": 20,
      "outputs": [
        {
          "output_type": "stream",
          "name": "stdout",
          "text": [
            "numIterations: 0\n",
            "objectiveHistory: [0.0]\n"
          ]
        }
      ]
    },
    {
      "cell_type": "code",
      "source": [
        "# Showing residuals\n",
        "trainingSummary.residuals.show()"
      ],
      "metadata": {
        "colab": {
          "base_uri": "https://localhost:8080/"
        },
        "id": "kIUQYt3MYUT7",
        "outputId": "67d8600d-eac2-4a12-c86e-2d9c5a7d7a25"
      },
      "execution_count": 26,
      "outputs": [
        {
          "output_type": "stream",
          "name": "stdout",
          "text": [
            "+--------------------+\n",
            "|           residuals|\n",
            "+--------------------+\n",
            "|  -6.212370690500425|\n",
            "| -3.6672336730292585|\n",
            "|    3.85064222896559|\n",
            "|   4.635238660816807|\n",
            "|   8.096805941870254|\n",
            "|   3.303628766669327|\n",
            "|-0.37727258201447356|\n",
            "|   7.287065344823542|\n",
            "|   4.820608385585643|\n",
            "| -0.2775169112028202|\n",
            "| -4.2626066242455956|\n",
            "| -2.9822096233181945|\n",
            "|  0.6127136540275799|\n",
            "|  0.7740615451797765|\n",
            "| -1.1862807001587008|\n",
            "|   0.545700556871104|\n",
            "|  2.5566531228394354|\n",
            "|  0.5332710284743669|\n",
            "|   4.092257934498541|\n",
            "|-0.26375695634771645|\n",
            "+--------------------+\n",
            "only showing top 20 rows\n",
            "\n"
          ]
        }
      ]
    },
    {
      "cell_type": "markdown",
      "source": [
        "### Q5. PRINTING RESULTS:"
      ],
      "metadata": {
        "id": "2Tgv0VSWY9kg"
      }
    },
    {
      "cell_type": "code",
      "source": [
        "print(f\"RMSE: {trainingSummary.rootMeanSquaredError}\")"
      ],
      "metadata": {
        "colab": {
          "base_uri": "https://localhost:8080/"
        },
        "id": "CViJNjOEYaDI",
        "outputId": "8c8d70ff-c317-44e3-b607-4f677f2c2d73"
      },
      "execution_count": 28,
      "outputs": [
        {
          "output_type": "stream",
          "name": "stdout",
          "text": [
            "RMSE: 4.725206763042685\n"
          ]
        }
      ]
    },
    {
      "cell_type": "code",
      "source": [
        "print(f\"MSE: {trainingSummary.meanSquaredError}\")"
      ],
      "metadata": {
        "colab": {
          "base_uri": "https://localhost:8080/"
        },
        "id": "AxVqRXetY1EK",
        "outputId": "75638e83-6a0e-4bda-cb54-59412cda3a89"
      },
      "execution_count": 27,
      "outputs": [
        {
          "output_type": "stream",
          "name": "stdout",
          "text": [
            "MSE: 22.32757895350433\n"
          ]
        }
      ]
    },
    {
      "cell_type": "code",
      "source": [
        "print(f\"r2: {trainingSummary.r2}\")"
      ],
      "metadata": {
        "colab": {
          "base_uri": "https://localhost:8080/"
        },
        "id": "GywP6L47Yc3I",
        "outputId": "c7ca0b14-fa91-4237-c2f2-f270315baadb"
      },
      "execution_count": 24,
      "outputs": [
        {
          "output_type": "stream",
          "name": "stdout",
          "text": [
            "r2: 0.73551650979604\n"
          ]
        }
      ]
    },
    {
      "cell_type": "code",
      "source": [],
      "metadata": {
        "id": "_zWnvSKLYluy"
      },
      "execution_count": null,
      "outputs": []
    }
  ]
}